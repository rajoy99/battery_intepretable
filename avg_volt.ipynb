{
 "cells": [
  {
   "cell_type": "code",
   "execution_count": 246,
   "metadata": {},
   "outputs": [],
   "source": [
    "import numpy as np\n",
    "import pandas as pd \n",
    "import matplotlib.pyplot as plt \n",
    "import seaborn as sns \n",
    "import xgboost"
   ]
  },
  {
   "cell_type": "code",
   "execution_count": 247,
   "metadata": {},
   "outputs": [
    {
     "data": {
      "text/html": [
       "<div>\n",
       "<style scoped>\n",
       "    .dataframe tbody tr th:only-of-type {\n",
       "        vertical-align: middle;\n",
       "    }\n",
       "\n",
       "    .dataframe tbody tr th {\n",
       "        vertical-align: top;\n",
       "    }\n",
       "\n",
       "    .dataframe thead th {\n",
       "        text-align: right;\n",
       "    }\n",
       "</style>\n",
       "<table border=\"1\" class=\"dataframe\">\n",
       "  <thead>\n",
       "    <tr style=\"text-align: right;\">\n",
       "      <th></th>\n",
       "      <th>average_voltage</th>\n",
       "      <th>capacity_grav</th>\n",
       "      <th>capacity_vol</th>\n",
       "      <th>energy_grav</th>\n",
       "      <th>energy_vol</th>\n",
       "      <th>max_frac</th>\n",
       "      <th>min_frac</th>\n",
       "      <th>min_instability</th>\n",
       "      <th>nsteps</th>\n",
       "      <th>numsites</th>\n",
       "    </tr>\n",
       "  </thead>\n",
       "  <tbody>\n",
       "    <tr>\n",
       "      <th>0</th>\n",
       "      <td>2.325185</td>\n",
       "      <td>50.228609</td>\n",
       "      <td>269.262771</td>\n",
       "      <td>116.790816</td>\n",
       "      <td>626.085802</td>\n",
       "      <td>0.083333</td>\n",
       "      <td>0.0</td>\n",
       "      <td>0.000000</td>\n",
       "      <td>1</td>\n",
       "      <td>11</td>\n",
       "    </tr>\n",
       "    <tr>\n",
       "      <th>1</th>\n",
       "      <td>3.291748</td>\n",
       "      <td>39.674483</td>\n",
       "      <td>154.215698</td>\n",
       "      <td>130.598387</td>\n",
       "      <td>507.639167</td>\n",
       "      <td>0.052632</td>\n",
       "      <td>0.0</td>\n",
       "      <td>0.000097</td>\n",
       "      <td>1</td>\n",
       "      <td>18</td>\n",
       "    </tr>\n",
       "    <tr>\n",
       "      <th>2</th>\n",
       "      <td>3.609671</td>\n",
       "      <td>181.943205</td>\n",
       "      <td>651.708695</td>\n",
       "      <td>656.755144</td>\n",
       "      <td>2352.454095</td>\n",
       "      <td>0.183673</td>\n",
       "      <td>0.0</td>\n",
       "      <td>0.025051</td>\n",
       "      <td>3</td>\n",
       "      <td>40</td>\n",
       "    </tr>\n",
       "    <tr>\n",
       "      <th>3</th>\n",
       "      <td>3.201169</td>\n",
       "      <td>73.484217</td>\n",
       "      <td>329.726946</td>\n",
       "      <td>235.235410</td>\n",
       "      <td>1055.511733</td>\n",
       "      <td>0.090909</td>\n",
       "      <td>0.0</td>\n",
       "      <td>0.049028</td>\n",
       "      <td>1</td>\n",
       "      <td>10</td>\n",
       "    </tr>\n",
       "    <tr>\n",
       "      <th>4</th>\n",
       "      <td>2.438309</td>\n",
       "      <td>73.484217</td>\n",
       "      <td>306.081406</td>\n",
       "      <td>179.177232</td>\n",
       "      <td>746.321063</td>\n",
       "      <td>0.090909</td>\n",
       "      <td>0.0</td>\n",
       "      <td>0.000000</td>\n",
       "      <td>1</td>\n",
       "      <td>10</td>\n",
       "    </tr>\n",
       "  </tbody>\n",
       "</table>\n",
       "</div>"
      ],
      "text/plain": [
       "   average_voltage  capacity_grav  capacity_vol  energy_grav   energy_vol  \\\n",
       "0         2.325185      50.228609    269.262771   116.790816   626.085802   \n",
       "1         3.291748      39.674483    154.215698   130.598387   507.639167   \n",
       "2         3.609671     181.943205    651.708695   656.755144  2352.454095   \n",
       "3         3.201169      73.484217    329.726946   235.235410  1055.511733   \n",
       "4         2.438309      73.484217    306.081406   179.177232   746.321063   \n",
       "\n",
       "   max_frac  min_frac  min_instability  nsteps  numsites  \n",
       "0  0.083333       0.0         0.000000       1        11  \n",
       "1  0.052632       0.0         0.000097       1        18  \n",
       "2  0.183673       0.0         0.025051       3        40  \n",
       "3  0.090909       0.0         0.049028       1        10  \n",
       "4  0.090909       0.0         0.000000       1        10  "
      ]
     },
     "execution_count": 247,
     "metadata": {},
     "output_type": "execute_result"
    }
   ],
   "source": [
    "df=pd.read_csv('dfile.csv')\n",
    "df=df.drop(['Unnamed: 0','max_voltage','min_voltage'],axis=1)\n",
    "df.head()\n"
   ]
  },
  {
   "cell_type": "code",
   "execution_count": 248,
   "metadata": {},
   "outputs": [
    {
     "name": "stdout",
     "output_type": "stream",
     "text": [
      "0    2.325185\n",
      "1    3.291748\n",
      "2    3.609671\n",
      "3    3.201169\n",
      "4    2.438309\n",
      "Name: average_voltage, dtype: float64\n"
     ]
    }
   ],
   "source": [
    "X=df.iloc[:,1:]\n",
    "y=df.iloc[:,0]\n",
    "\n",
    "\n",
    "print(y.head())"
   ]
  },
  {
   "cell_type": "code",
   "execution_count": 249,
   "metadata": {},
   "outputs": [],
   "source": [
    "from sklearn.model_selection import train_test_split \n",
    "\n",
    "X_train,X_test,y_train,y_test=train_test_split(X,y,test_size=0.2,random_state=20)\n",
    "\n"
   ]
  },
  {
   "cell_type": "code",
   "execution_count": 250,
   "metadata": {},
   "outputs": [
    {
     "data": {
      "text/plain": [
       "((3497, 9), (875, 9))"
      ]
     },
     "execution_count": 250,
     "metadata": {},
     "output_type": "execute_result"
    }
   ],
   "source": [
    "X_train.shape,X_test.shape"
   ]
  },
  {
   "cell_type": "code",
   "execution_count": 251,
   "metadata": {},
   "outputs": [
    {
     "name": "stdout",
     "output_type": "stream",
     "text": [
      "(3147, 9) (3147,)\n"
     ]
    }
   ],
   "source": [
    "from sklearn.ensemble import IsolationForest\n",
    "\n",
    "iso = IsolationForest(contamination=0.1)\n",
    "yhat = iso.fit_predict(X_train)\n",
    "# select all rows that are not outliers\n",
    "mask = yhat != -1\n",
    "X_train, y_train = X_train[mask], y_train[mask]\n",
    "# summarize the shape of the updated training dataset\n",
    "print(X_train.shape, y_train.shape)"
   ]
  },
  {
   "cell_type": "code",
   "execution_count": 252,
   "metadata": {},
   "outputs": [
    {
     "name": "stdout",
     "output_type": "stream",
     "text": [
      "r2_score:  0.957756\n",
      "XGBRegressor(base_score=0.5, booster='gbtree', colsample_bylevel=1,\n",
      "             colsample_bynode=1, colsample_bytree=1, enable_categorical=False,\n",
      "             gamma=0, gpu_id=-1, importance_type=None,\n",
      "             interaction_constraints='', learning_rate=0.300000012,\n",
      "             max_delta_step=0, max_depth=6, min_child_weight=1, missing=nan,\n",
      "             monotone_constraints='()', n_estimators=100, n_jobs=8,\n",
      "             num_parallel_tree=1, predictor='auto', random_state=0, reg_alpha=0,\n",
      "             reg_lambda=1, scale_pos_weight=1, subsample=1, tree_method='exact',\n",
      "             validate_parameters=1, verbosity=None)\n",
      "r2_score:  0.782488\n",
      "SVR()\n",
      "r2_score:  0.940152\n",
      "GradientBoostingRegressor()\n",
      "r2_score:  0.951749\n",
      "RandomForestRegressor()\n",
      "r2_score: -1.162133\n",
      "BayesianRidge()\n"
     ]
    }
   ],
   "source": [
    "from sklearn.metrics import r2_score\n",
    "from sklearn.svm import SVR\n",
    "from sklearn.ensemble import GradientBoostingRegressor,RandomForestRegressor\n",
    "from sklearn.linear_model import BayesianRidge\n",
    "\n",
    "\n",
    "xgb_r = xgboost.XGBRegressor()\n",
    "  \n",
    "\n",
    "models=[xgb_r,SVR(),GradientBoostingRegressor(),RandomForestRegressor(),BayesianRidge()]\n",
    "# Fitting the model\n",
    "for model in models:\n",
    "    model.fit(X_train, y_train)\n",
    "  \n",
    "    # Predict the model\n",
    "    pred = model.predict(X_test)\n",
    "  \n",
    "    # RMSE Computation\n",
    "    r2 = r2_score(y_test, pred)\n",
    "    print(\"r2_score: % f\"%(r2))\n",
    "    print(str(model))"
   ]
  },
  {
   "cell_type": "code",
   "execution_count": 253,
   "metadata": {},
   "outputs": [
    {
     "data": {
      "text/plain": [
       "array([-1.33200557e-02, -7.05571074e-04,  5.10131100e-03,  2.26326201e-04,\n",
       "       -4.48605441e-01,  7.58624840e-01, -1.10935505e+00, -1.07988179e-01,\n",
       "        6.38721521e-03])"
      ]
     },
     "execution_count": 253,
     "metadata": {},
     "output_type": "execute_result"
    }
   ],
   "source": [
    "model.coef_"
   ]
  },
  {
   "cell_type": "code",
   "execution_count": 254,
   "metadata": {},
   "outputs": [
    {
     "name": "stdout",
     "output_type": "stream",
     "text": [
      "r2_score:  0.957756\n",
      "XGBRegressor(base_score=0.5, booster='gbtree', colsample_bylevel=1,\n",
      "             colsample_bynode=1, colsample_bytree=1, enable_categorical=False,\n",
      "             gamma=0, gpu_id=-1, importance_type=None,\n",
      "             interaction_constraints='', learning_rate=0.300000012,\n",
      "             max_delta_step=0, max_depth=6, min_child_weight=1, missing=nan,\n",
      "             monotone_constraints='()', n_estimators=100, n_jobs=8,\n",
      "             num_parallel_tree=1, predictor='auto', random_state=0, reg_alpha=0,\n",
      "             reg_lambda=1, scale_pos_weight=1, subsample=1, tree_method='exact',\n",
      "             validate_parameters=1, verbosity=None)\n"
     ]
    }
   ],
   "source": [
    "xgb_r.fit(X_train, y_train)\n",
    "\n",
    "# Predict the model\n",
    "pred = xgb_r.predict(X_test)\n",
    "\n",
    "# RMSE Computation\n",
    "r2 = r2_score(y_test, pred)\n",
    "print(\"r2_score: % f\"%(r2))\n",
    "print(str(xgb_r))"
   ]
  },
  {
   "cell_type": "code",
   "execution_count": 255,
   "metadata": {},
   "outputs": [
    {
     "name": "stderr",
     "output_type": "stream",
     "text": [
      "ntree_limit is deprecated, use `iteration_range` or model slicing instead.\n"
     ]
    }
   ],
   "source": [
    "import shap\n",
    "\n",
    "pred = xgb_r.predict(X_test, output_margin=True)\n",
    "explainer = shap.TreeExplainer(xgb_r)\n",
    "shap_values = explainer.shap_values(X_test)"
   ]
  },
  {
   "cell_type": "code",
   "execution_count": 256,
   "metadata": {},
   "outputs": [
    {
     "data": {
      "image/png": "[encoded data removed]",
      "text/plain": [
       "<Figure size 576x367.2 with 2 Axes>"
      ]
     },
     "metadata": {
      "needs_background": "light"
     },
     "output_type": "display_data"
    }
   ],
   "source": [
    "shap.summary_plot(shap_values, X_test,cmap=\"coolwarm\")"
   ]
  }
 ],
 "metadata": {
  "interpreter": {
   "hash": "7707060a70e73c870e805475563b3cd4fc9a8cd9674eb2e22ae7b7046e4eb061"
  },
  "kernelspec": {
   "display_name": "Python 3.8.5 64-bit ('base': conda)",
   "language": "python",
   "name": "python3"
  },
  "language_info": {
   "codemirror_mode": {
    "name": "ipython",
    "version": 3
   },
   "file_extension": ".py",
   "mimetype": "text/x-python",
   "name": "python",
   "nbconvert_exporter": "python",
   "pygments_lexer": "ipython3",
   "version": "3.9.7"
  },
  "orig_nbformat": 2
 },
 "nbformat": 4,
 "nbformat_minor": 2
}
