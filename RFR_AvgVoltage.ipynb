{
 "cells": [
  {
   "cell_type": "code",
   "execution_count": 1,
   "metadata": {},
   "outputs": [],
   "source": [
    "import numpy as np\n",
    "import pandas as pd \n",
    "import matplotlib.pyplot as plt \n",
    "import seaborn as sns \n",
    "\n",
    "%matplotlib notebook"
   ]
  },
  {
   "cell_type": "code",
   "execution_count": 2,
   "metadata": {},
   "outputs": [
    {
     "data": {
      "text/html": [
       "<div>\n",
       "<style scoped>\n",
       "    .dataframe tbody tr th:only-of-type {\n",
       "        vertical-align: middle;\n",
       "    }\n",
       "\n",
       "    .dataframe tbody tr th {\n",
       "        vertical-align: top;\n",
       "    }\n",
       "\n",
       "    .dataframe thead th {\n",
       "        text-align: right;\n",
       "    }\n",
       "</style>\n",
       "<table border=\"1\" class=\"dataframe\">\n",
       "  <thead>\n",
       "    <tr style=\"text-align: right;\">\n",
       "      <th></th>\n",
       "      <th>Unnamed: 0</th>\n",
       "      <th>average_voltage</th>\n",
       "      <th>capacity_grav</th>\n",
       "      <th>capacity_vol</th>\n",
       "      <th>energy_grav</th>\n",
       "      <th>energy_vol</th>\n",
       "      <th>max_frac</th>\n",
       "      <th>max_voltage</th>\n",
       "      <th>min_frac</th>\n",
       "      <th>min_instability</th>\n",
       "      <th>min_voltage</th>\n",
       "      <th>nsteps</th>\n",
       "      <th>numsites</th>\n",
       "    </tr>\n",
       "  </thead>\n",
       "  <tbody>\n",
       "    <tr>\n",
       "      <th>0</th>\n",
       "      <td>0</td>\n",
       "      <td>2.325185</td>\n",
       "      <td>50.228609</td>\n",
       "      <td>269.262771</td>\n",
       "      <td>116.790816</td>\n",
       "      <td>626.085802</td>\n",
       "      <td>0.083333</td>\n",
       "      <td>2.325185</td>\n",
       "      <td>0.0</td>\n",
       "      <td>0.000000</td>\n",
       "      <td>2.325185</td>\n",
       "      <td>1</td>\n",
       "      <td>11</td>\n",
       "    </tr>\n",
       "    <tr>\n",
       "      <th>1</th>\n",
       "      <td>1</td>\n",
       "      <td>3.291748</td>\n",
       "      <td>39.674483</td>\n",
       "      <td>154.215698</td>\n",
       "      <td>130.598387</td>\n",
       "      <td>507.639167</td>\n",
       "      <td>0.052632</td>\n",
       "      <td>3.291748</td>\n",
       "      <td>0.0</td>\n",
       "      <td>0.000097</td>\n",
       "      <td>3.291748</td>\n",
       "      <td>1</td>\n",
       "      <td>18</td>\n",
       "    </tr>\n",
       "    <tr>\n",
       "      <th>2</th>\n",
       "      <td>2</td>\n",
       "      <td>3.609671</td>\n",
       "      <td>181.943205</td>\n",
       "      <td>651.708695</td>\n",
       "      <td>656.755144</td>\n",
       "      <td>2352.454095</td>\n",
       "      <td>0.183673</td>\n",
       "      <td>5.062579</td>\n",
       "      <td>0.0</td>\n",
       "      <td>0.025051</td>\n",
       "      <td>2.660169</td>\n",
       "      <td>3</td>\n",
       "      <td>40</td>\n",
       "    </tr>\n",
       "    <tr>\n",
       "      <th>3</th>\n",
       "      <td>3</td>\n",
       "      <td>3.201169</td>\n",
       "      <td>73.484217</td>\n",
       "      <td>329.726946</td>\n",
       "      <td>235.235410</td>\n",
       "      <td>1055.511733</td>\n",
       "      <td>0.090909</td>\n",
       "      <td>3.201169</td>\n",
       "      <td>0.0</td>\n",
       "      <td>0.049028</td>\n",
       "      <td>3.201169</td>\n",
       "      <td>1</td>\n",
       "      <td>10</td>\n",
       "    </tr>\n",
       "    <tr>\n",
       "      <th>4</th>\n",
       "      <td>4</td>\n",
       "      <td>2.438309</td>\n",
       "      <td>73.484217</td>\n",
       "      <td>306.081406</td>\n",
       "      <td>179.177232</td>\n",
       "      <td>746.321063</td>\n",
       "      <td>0.090909</td>\n",
       "      <td>2.438309</td>\n",
       "      <td>0.0</td>\n",
       "      <td>0.000000</td>\n",
       "      <td>2.438309</td>\n",
       "      <td>1</td>\n",
       "      <td>10</td>\n",
       "    </tr>\n",
       "  </tbody>\n",
       "</table>\n",
       "</div>"
      ],
      "text/plain": [
       "   Unnamed: 0  average_voltage  capacity_grav  capacity_vol  energy_grav  \\\n",
       "0           0         2.325185      50.228609    269.262771   116.790816   \n",
       "1           1         3.291748      39.674483    154.215698   130.598387   \n",
       "2           2         3.609671     181.943205    651.708695   656.755144   \n",
       "3           3         3.201169      73.484217    329.726946   235.235410   \n",
       "4           4         2.438309      73.484217    306.081406   179.177232   \n",
       "\n",
       "    energy_vol  max_frac  max_voltage  min_frac  min_instability  min_voltage  \\\n",
       "0   626.085802  0.083333     2.325185       0.0         0.000000     2.325185   \n",
       "1   507.639167  0.052632     3.291748       0.0         0.000097     3.291748   \n",
       "2  2352.454095  0.183673     5.062579       0.0         0.025051     2.660169   \n",
       "3  1055.511733  0.090909     3.201169       0.0         0.049028     3.201169   \n",
       "4   746.321063  0.090909     2.438309       0.0         0.000000     2.438309   \n",
       "\n",
       "   nsteps  numsites  \n",
       "0       1        11  \n",
       "1       1        18  \n",
       "2       3        40  \n",
       "3       1        10  \n",
       "4       1        10  "
      ]
     },
     "execution_count": 2,
     "metadata": {},
     "output_type": "execute_result"
    }
   ],
   "source": [
    "df=pd.read_csv('dfile.csv')\n",
    "df.head()"
   ]
  },
  {
   "cell_type": "code",
   "execution_count": 3,
   "metadata": {},
   "outputs": [
    {
     "data": {
      "text/html": [
       "<div>\n",
       "<style scoped>\n",
       "    .dataframe tbody tr th:only-of-type {\n",
       "        vertical-align: middle;\n",
       "    }\n",
       "\n",
       "    .dataframe tbody tr th {\n",
       "        vertical-align: top;\n",
       "    }\n",
       "\n",
       "    .dataframe thead th {\n",
       "        text-align: right;\n",
       "    }\n",
       "</style>\n",
       "<table border=\"1\" class=\"dataframe\">\n",
       "  <thead>\n",
       "    <tr style=\"text-align: right;\">\n",
       "      <th></th>\n",
       "      <th>average_voltage</th>\n",
       "      <th>capacity_grav</th>\n",
       "      <th>capacity_vol</th>\n",
       "      <th>max_frac</th>\n",
       "      <th>numsites</th>\n",
       "    </tr>\n",
       "  </thead>\n",
       "  <tbody>\n",
       "    <tr>\n",
       "      <th>0</th>\n",
       "      <td>2.325185</td>\n",
       "      <td>50.228609</td>\n",
       "      <td>269.262771</td>\n",
       "      <td>0.083333</td>\n",
       "      <td>11</td>\n",
       "    </tr>\n",
       "    <tr>\n",
       "      <th>1</th>\n",
       "      <td>3.291748</td>\n",
       "      <td>39.674483</td>\n",
       "      <td>154.215698</td>\n",
       "      <td>0.052632</td>\n",
       "      <td>18</td>\n",
       "    </tr>\n",
       "    <tr>\n",
       "      <th>2</th>\n",
       "      <td>3.609671</td>\n",
       "      <td>181.943205</td>\n",
       "      <td>651.708695</td>\n",
       "      <td>0.183673</td>\n",
       "      <td>40</td>\n",
       "    </tr>\n",
       "    <tr>\n",
       "      <th>3</th>\n",
       "      <td>3.201169</td>\n",
       "      <td>73.484217</td>\n",
       "      <td>329.726946</td>\n",
       "      <td>0.090909</td>\n",
       "      <td>10</td>\n",
       "    </tr>\n",
       "    <tr>\n",
       "      <th>4</th>\n",
       "      <td>2.438309</td>\n",
       "      <td>73.484217</td>\n",
       "      <td>306.081406</td>\n",
       "      <td>0.090909</td>\n",
       "      <td>10</td>\n",
       "    </tr>\n",
       "  </tbody>\n",
       "</table>\n",
       "</div>"
      ],
      "text/plain": [
       "   average_voltage  capacity_grav  capacity_vol  max_frac  numsites\n",
       "0         2.325185      50.228609    269.262771  0.083333        11\n",
       "1         3.291748      39.674483    154.215698  0.052632        18\n",
       "2         3.609671     181.943205    651.708695  0.183673        40\n",
       "3         3.201169      73.484217    329.726946  0.090909        10\n",
       "4         2.438309      73.484217    306.081406  0.090909        10"
      ]
     },
     "execution_count": 3,
     "metadata": {},
     "output_type": "execute_result"
    }
   ],
   "source": [
    "df=pd.read_csv('dfile.csv')\n",
    "df=df.drop(['Unnamed: 0','max_voltage','min_voltage','min_frac','nsteps','min_instability','energy_grav','energy_vol'],axis=1)\n",
    "df.head()\n"
   ]
  },
  {
   "cell_type": "code",
   "execution_count": 4,
   "metadata": {},
   "outputs": [
    {
     "name": "stdout",
     "output_type": "stream",
     "text": [
      "0    2.325185\n",
      "1    3.291748\n",
      "2    3.609671\n",
      "3    3.201169\n",
      "4    2.438309\n",
      "Name: average_voltage, dtype: float64\n"
     ]
    }
   ],
   "source": [
    "X=df.iloc[:,1:]\n",
    "y=df.iloc[:,0]\n",
    "\n",
    "\n",
    "print(y.head())"
   ]
  },
  {
   "cell_type": "code",
   "execution_count": 5,
   "metadata": {},
   "outputs": [],
   "source": [
    "from sklearn.model_selection import train_test_split \n",
    "\n",
    "X_train,X_test,y_train,y_test=train_test_split(X,y,test_size=0.2,random_state=4)\n",
    "\n"
   ]
  },
  {
   "cell_type": "code",
   "execution_count": 6,
   "metadata": {},
   "outputs": [
    {
     "data": {
      "text/plain": [
       "((3497, 4), (875, 4))"
      ]
     },
     "execution_count": 6,
     "metadata": {},
     "output_type": "execute_result"
    }
   ],
   "source": [
    "X_train.shape,X_test.shape"
   ]
  },
  {
   "cell_type": "code",
   "execution_count": 13,
   "metadata": {},
   "outputs": [
    {
     "data": {
      "text/plain": [
       "pandas.core.frame.DataFrame"
      ]
     },
     "execution_count": 13,
     "metadata": {},
     "output_type": "execute_result"
    }
   ],
   "source": [
    "type(X_test)"
   ]
  },
  {
   "cell_type": "code",
   "execution_count": 8,
   "metadata": {},
   "outputs": [
    {
     "name": "stdout",
     "output_type": "stream",
     "text": [
      "r2_score:  0.508553\n",
      "RandomForestRegressor()\n"
     ]
    }
   ],
   "source": [
    "from sklearn.ensemble import RandomForestRegressor\n",
    "from sklearn.metrics import r2_score\n",
    "\n",
    "RFR=RandomForestRegressor()\n",
    "RFR.fit(X_train, y_train)\n",
    "\n",
    "# Predict the model\n",
    "pred = RFR.predict(X_test)\n",
    "\n",
    "# RMSE Computation\n",
    "r2 = r2_score(y_test, pred)\n",
    "print(\"r2_score: % f\"%(r2))\n",
    "print(str(RFR))"
   ]
  },
  {
   "cell_type": "code",
   "execution_count": 9,
   "metadata": {},
   "outputs": [
    {
     "data": {
      "text/plain": [
       "['RFRegressor.joblib']"
      ]
     },
     "execution_count": 9,
     "metadata": {},
     "output_type": "execute_result"
    }
   ],
   "source": [
    "from joblib import dump, load\n",
    "dump(RFR, 'RFRegressor.joblib') "
   ]
  },
  {
   "cell_type": "code",
   "execution_count": 10,
   "metadata": {},
   "outputs": [],
   "source": [
    "rfr = load('RFRegressor.joblib') "
   ]
  },
  {
   "cell_type": "code",
   "execution_count": 15,
   "metadata": {},
   "outputs": [
    {
     "name": "stderr",
     "output_type": "stream",
     "text": [
      "/home/joy/anaconda3/lib/python3.9/site-packages/sklearn/base.py:450: UserWarning: X does not have valid feature names, but RandomForestRegressor was fitted with feature names\n",
      "  warnings.warn(\n"
     ]
    },
    {
     "data": {
      "text/plain": [
       "array([2.63147954])"
      ]
     },
     "execution_count": 15,
     "metadata": {},
     "output_type": "execute_result"
    }
   ],
   "source": [
    "rfr.predict(np.array([50.228609,\t269.262771,\t0.083333,\t11]).reshape(1,4))"
   ]
  }
 ],
 "metadata": {
  "interpreter": {
   "hash": "7707060a70e73c870e805475563b3cd4fc9a8cd9674eb2e22ae7b7046e4eb061"
  },
  "kernelspec": {
   "display_name": "Python 3.8.5 64-bit ('base': conda)",
   "language": "python",
   "name": "python3"
  },
  "language_info": {
   "codemirror_mode": {
    "name": "ipython",
    "version": 3
   },
   "file_extension": ".py",
   "mimetype": "text/x-python",
   "name": "python",
   "nbconvert_exporter": "python",
   "pygments_lexer": "ipython3",
   "version": "3.9.7"
  },
  "orig_nbformat": 2
 },
 "nbformat": 4,
 "nbformat_minor": 2
}
