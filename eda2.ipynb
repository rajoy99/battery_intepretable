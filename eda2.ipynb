{
 "cells": [
  {
   "cell_type": "code",
   "execution_count": 9,
   "metadata": {},
   "outputs": [],
   "source": [
    "import numpy as np\n",
    "import pandas as pd \n",
    "import matplotlib.pyplot as plt \n",
    "import seaborn as sns \n",
    "import xgboost"
   ]
  },
  {
   "cell_type": "code",
   "execution_count": 10,
   "metadata": {},
   "outputs": [
    {
     "data": {
      "text/html": [
       "<div>\n",
       "<style scoped>\n",
       "    .dataframe tbody tr th:only-of-type {\n",
       "        vertical-align: middle;\n",
       "    }\n",
       "\n",
       "    .dataframe tbody tr th {\n",
       "        vertical-align: top;\n",
       "    }\n",
       "\n",
       "    .dataframe thead th {\n",
       "        text-align: right;\n",
       "    }\n",
       "</style>\n",
       "<table border=\"1\" class=\"dataframe\">\n",
       "  <thead>\n",
       "    <tr style=\"text-align: right;\">\n",
       "      <th></th>\n",
       "      <th>average_voltage</th>\n",
       "      <th>capacity_grav</th>\n",
       "      <th>capacity_vol</th>\n",
       "      <th>energy_grav</th>\n",
       "      <th>energy_vol</th>\n",
       "      <th>max_frac</th>\n",
       "      <th>min_frac</th>\n",
       "      <th>min_instability</th>\n",
       "      <th>nsteps</th>\n",
       "      <th>numsites</th>\n",
       "    </tr>\n",
       "  </thead>\n",
       "  <tbody>\n",
       "    <tr>\n",
       "      <th>0</th>\n",
       "      <td>2.325185</td>\n",
       "      <td>50.228609</td>\n",
       "      <td>269.262771</td>\n",
       "      <td>116.790816</td>\n",
       "      <td>626.085802</td>\n",
       "      <td>0.083333</td>\n",
       "      <td>0.0</td>\n",
       "      <td>0.000000</td>\n",
       "      <td>1</td>\n",
       "      <td>11</td>\n",
       "    </tr>\n",
       "    <tr>\n",
       "      <th>1</th>\n",
       "      <td>3.291748</td>\n",
       "      <td>39.674483</td>\n",
       "      <td>154.215698</td>\n",
       "      <td>130.598387</td>\n",
       "      <td>507.639167</td>\n",
       "      <td>0.052632</td>\n",
       "      <td>0.0</td>\n",
       "      <td>0.000097</td>\n",
       "      <td>1</td>\n",
       "      <td>18</td>\n",
       "    </tr>\n",
       "    <tr>\n",
       "      <th>2</th>\n",
       "      <td>3.609671</td>\n",
       "      <td>181.943205</td>\n",
       "      <td>651.708695</td>\n",
       "      <td>656.755144</td>\n",
       "      <td>2352.454095</td>\n",
       "      <td>0.183673</td>\n",
       "      <td>0.0</td>\n",
       "      <td>0.025051</td>\n",
       "      <td>3</td>\n",
       "      <td>40</td>\n",
       "    </tr>\n",
       "    <tr>\n",
       "      <th>3</th>\n",
       "      <td>3.201169</td>\n",
       "      <td>73.484217</td>\n",
       "      <td>329.726946</td>\n",
       "      <td>235.235410</td>\n",
       "      <td>1055.511733</td>\n",
       "      <td>0.090909</td>\n",
       "      <td>0.0</td>\n",
       "      <td>0.049028</td>\n",
       "      <td>1</td>\n",
       "      <td>10</td>\n",
       "    </tr>\n",
       "    <tr>\n",
       "      <th>4</th>\n",
       "      <td>2.438309</td>\n",
       "      <td>73.484217</td>\n",
       "      <td>306.081406</td>\n",
       "      <td>179.177232</td>\n",
       "      <td>746.321063</td>\n",
       "      <td>0.090909</td>\n",
       "      <td>0.0</td>\n",
       "      <td>0.000000</td>\n",
       "      <td>1</td>\n",
       "      <td>10</td>\n",
       "    </tr>\n",
       "  </tbody>\n",
       "</table>\n",
       "</div>"
      ],
      "text/plain": [
       "   average_voltage  capacity_grav  capacity_vol  energy_grav   energy_vol  \\\n",
       "0         2.325185      50.228609    269.262771   116.790816   626.085802   \n",
       "1         3.291748      39.674483    154.215698   130.598387   507.639167   \n",
       "2         3.609671     181.943205    651.708695   656.755144  2352.454095   \n",
       "3         3.201169      73.484217    329.726946   235.235410  1055.511733   \n",
       "4         2.438309      73.484217    306.081406   179.177232   746.321063   \n",
       "\n",
       "   max_frac  min_frac  min_instability  nsteps  numsites  \n",
       "0  0.083333       0.0         0.000000       1        11  \n",
       "1  0.052632       0.0         0.000097       1        18  \n",
       "2  0.183673       0.0         0.025051       3        40  \n",
       "3  0.090909       0.0         0.049028       1        10  \n",
       "4  0.090909       0.0         0.000000       1        10  "
      ]
     },
     "execution_count": 10,
     "metadata": {},
     "output_type": "execute_result"
    }
   ],
   "source": [
    "df=pd.read_csv('dfile.csv')\n",
    "df=df.drop(['Unnamed: 0','max_voltage','min_voltage'],axis=1)\n",
    "df.head()\n"
   ]
  },
  {
   "cell_type": "code",
   "execution_count": 11,
   "metadata": {},
   "outputs": [
    {
     "name": "stdout",
     "output_type": "stream",
     "text": [
      "0    2.325185\n",
      "1    3.291748\n",
      "2    3.609671\n",
      "3    3.201169\n",
      "4    2.438309\n",
      "Name: average_voltage, dtype: float64\n"
     ]
    }
   ],
   "source": [
    "X=df.iloc[:,1:]\n",
    "y=df.iloc[:,0]\n",
    "\n",
    "\n",
    "print(y.head())"
   ]
  },
  {
   "cell_type": "code",
   "execution_count": 12,
   "metadata": {},
   "outputs": [],
   "source": [
    "from sklearn.model_selection import train_test_split \n",
    "\n",
    "X_train,X_test,y_train,y_test=train_test_split(X,y,test_size=0.2,random_state=2)\n",
    "\n"
   ]
  },
  {
   "cell_type": "code",
   "execution_count": 13,
   "metadata": {},
   "outputs": [
    {
     "data": {
      "text/plain": [
       "((3497, 9), (875, 9))"
      ]
     },
     "execution_count": 13,
     "metadata": {},
     "output_type": "execute_result"
    }
   ],
   "source": [
    "X_train.shape,X_test.shape"
   ]
  },
  {
   "cell_type": "code",
   "execution_count": 14,
   "metadata": {},
   "outputs": [
    {
     "data": {
      "text/html": [
       "<div>\n",
       "<style scoped>\n",
       "    .dataframe tbody tr th:only-of-type {\n",
       "        vertical-align: middle;\n",
       "    }\n",
       "\n",
       "    .dataframe tbody tr th {\n",
       "        vertical-align: top;\n",
       "    }\n",
       "\n",
       "    .dataframe thead th {\n",
       "        text-align: right;\n",
       "    }\n",
       "</style>\n",
       "<table border=\"1\" class=\"dataframe\">\n",
       "  <thead>\n",
       "    <tr style=\"text-align: right;\">\n",
       "      <th></th>\n",
       "      <th>capacity_grav</th>\n",
       "      <th>capacity_vol</th>\n",
       "      <th>energy_grav</th>\n",
       "      <th>energy_vol</th>\n",
       "      <th>max_frac</th>\n",
       "      <th>min_frac</th>\n",
       "      <th>min_instability</th>\n",
       "      <th>nsteps</th>\n",
       "      <th>numsites</th>\n",
       "    </tr>\n",
       "  </thead>\n",
       "  <tbody>\n",
       "    <tr>\n",
       "      <th>2065</th>\n",
       "      <td>212.178926</td>\n",
       "      <td>850.598681</td>\n",
       "      <td>459.071622</td>\n",
       "      <td>1840.360506</td>\n",
       "      <td>0.294118</td>\n",
       "      <td>0.142857</td>\n",
       "      <td>4.082007e-02</td>\n",
       "      <td>1</td>\n",
       "      <td>24</td>\n",
       "    </tr>\n",
       "    <tr>\n",
       "      <th>755</th>\n",
       "      <td>107.202624</td>\n",
       "      <td>286.326559</td>\n",
       "      <td>499.738524</td>\n",
       "      <td>1334.747297</td>\n",
       "      <td>0.083333</td>\n",
       "      <td>0.000000</td>\n",
       "      <td>1.272088e-02</td>\n",
       "      <td>1</td>\n",
       "      <td>11</td>\n",
       "    </tr>\n",
       "    <tr>\n",
       "      <th>2649</th>\n",
       "      <td>539.086246</td>\n",
       "      <td>1640.629265</td>\n",
       "      <td>258.197753</td>\n",
       "      <td>785.786677</td>\n",
       "      <td>0.666667</td>\n",
       "      <td>0.000000</td>\n",
       "      <td>3.183335e-02</td>\n",
       "      <td>1</td>\n",
       "      <td>1</td>\n",
       "    </tr>\n",
       "    <tr>\n",
       "      <th>2131</th>\n",
       "      <td>305.049735</td>\n",
       "      <td>897.560848</td>\n",
       "      <td>335.507888</td>\n",
       "      <td>987.179170</td>\n",
       "      <td>0.222222</td>\n",
       "      <td>0.000000</td>\n",
       "      <td>3.550000e-15</td>\n",
       "      <td>2</td>\n",
       "      <td>7</td>\n",
       "    </tr>\n",
       "    <tr>\n",
       "      <th>3530</th>\n",
       "      <td>127.955099</td>\n",
       "      <td>709.184672</td>\n",
       "      <td>267.293260</td>\n",
       "      <td>1481.459395</td>\n",
       "      <td>0.076923</td>\n",
       "      <td>0.000000</td>\n",
       "      <td>1.226788e-01</td>\n",
       "      <td>1</td>\n",
       "      <td>12</td>\n",
       "    </tr>\n",
       "  </tbody>\n",
       "</table>\n",
       "</div>"
      ],
      "text/plain": [
       "      capacity_grav  capacity_vol  energy_grav   energy_vol  max_frac  \\\n",
       "2065     212.178926    850.598681   459.071622  1840.360506  0.294118   \n",
       "755      107.202624    286.326559   499.738524  1334.747297  0.083333   \n",
       "2649     539.086246   1640.629265   258.197753   785.786677  0.666667   \n",
       "2131     305.049735    897.560848   335.507888   987.179170  0.222222   \n",
       "3530     127.955099    709.184672   267.293260  1481.459395  0.076923   \n",
       "\n",
       "      min_frac  min_instability  nsteps  numsites  \n",
       "2065  0.142857     4.082007e-02       1        24  \n",
       "755   0.000000     1.272088e-02       1        11  \n",
       "2649  0.000000     3.183335e-02       1         1  \n",
       "2131  0.000000     3.550000e-15       2         7  \n",
       "3530  0.000000     1.226788e-01       1        12  "
      ]
     },
     "execution_count": 14,
     "metadata": {},
     "output_type": "execute_result"
    }
   ],
   "source": [
    "X_train.head()"
   ]
  },
  {
   "cell_type": "code",
   "execution_count": 15,
   "metadata": {},
   "outputs": [
    {
     "data": {
      "text/plain": [
       "array([ 850.5986809,  286.3265593, 1640.629265 , ...,  341.832021 ,\n",
       "        981.9481854,  496.433791 ])"
      ]
     },
     "execution_count": 15,
     "metadata": {},
     "output_type": "execute_result"
    }
   ],
   "source": [
    "X_train.iloc[:,1].values"
   ]
  },
  {
   "cell_type": "code",
   "execution_count": 16,
   "metadata": {},
   "outputs": [
    {
     "data": {
      "image/png": "[encoded data removed]",
      "text/plain": [
       "<Figure size 648x432 with 1 Axes>"
      ]
     },
     "metadata": {},
     "output_type": "display_data"
    },
    {
     "data": {
      "text/plain": [
       "<Figure size 648x432 with 0 Axes>"
      ]
     },
     "metadata": {},
     "output_type": "display_data"
    },
    {
     "data": {
      "image/png": "[encoded data removed]",
      "text/plain": [
       "<Figure size 648x432 with 1 Axes>"
      ]
     },
     "metadata": {},
     "output_type": "display_data"
    },
    {
     "data": {
      "text/plain": [
       "<Figure size 648x432 with 0 Axes>"
      ]
     },
     "metadata": {},
     "output_type": "display_data"
    },
    {
     "data": {
      "image/png": "[encoded data removed]",
      "text/plain": [
       "<Figure size 648x432 with 1 Axes>"
      ]
     },
     "metadata": {},
     "output_type": "display_data"
    },
    {
     "data": {
      "text/plain": [
       "<Figure size 648x432 with 0 Axes>"
      ]
     },
     "metadata": {},
     "output_type": "display_data"
    },
    {
     "data": {
      "image/png": "[encoded data removed]",
      "text/plain": [
       "<Figure size 648x432 with 1 Axes>"
      ]
     },
     "metadata": {},
     "output_type": "display_data"
    },
    {
     "data": {
      "text/plain": [
       "<Figure size 648x432 with 0 Axes>"
      ]
     },
     "metadata": {},
     "output_type": "display_data"
    },
    {
     "data": {
      "image/png": "[encoded data removed]",
      "text/plain": [
       "<Figure size 648x432 with 1 Axes>"
      ]
     },
     "metadata": {},
     "output_type": "display_data"
    },
    {
     "data": {
      "text/plain": [
       "<Figure size 648x432 with 0 Axes>"
      ]
     },
     "metadata": {},
     "output_type": "display_data"
    },
    {
     "data": {
      "image/png": "[encoded data removed]",
      "text/plain": [
       "<Figure size 648x432 with 1 Axes>"
      ]
     },
     "metadata": {},
     "output_type": "display_data"
    },
    {
     "data": {
      "text/plain": [
       "<Figure size 648x432 with 0 Axes>"
      ]
     },
     "metadata": {},
     "output_type": "display_data"
    },
    {
     "data": {
      "image/png": "[encoded data removed]",
      "text/plain": [
       "<Figure size 648x432 with 1 Axes>"
      ]
     },
     "metadata": {},
     "output_type": "display_data"
    },
    {
     "data": {
      "text/plain": [
       "<Figure size 648x432 with 0 Axes>"
      ]
     },
     "metadata": {},
     "output_type": "display_data"
    },
    {
     "data": {
      "image/png": "[encoded data removed]",
      "text/plain": [
       "<Figure size 648x432 with 1 Axes>"
      ]
     },
     "metadata": {},
     "output_type": "display_data"
    },
    {
     "data": {
      "text/plain": [
       "<Figure size 648x432 with 0 Axes>"
      ]
     },
     "metadata": {},
     "output_type": "display_data"
    },
    {
     "data": {
      "image/png": "[encoded data removed]",
      "text/plain": [
       "<Figure size 648x432 with 1 Axes>"
      ]
     },
     "metadata": {},
     "output_type": "display_data"
    },
    {
     "data": {
      "text/plain": [
       "<Figure size 648x432 with 0 Axes>"
      ]
     },
     "metadata": {},
     "output_type": "display_data"
    }
   ],
   "source": [
    "for i in range(9):\n",
    "    fig, ax = plt.subplots()\n",
    "    # sns.histplot(df,x=X_train.columns[i],color='red',ax=ax)\n",
    "    # sns.histplot(df,x=X_test.columns[i],color='green',ax=ax)\n",
    "    plt.hist([X_train.iloc[:,i].values,X_test.iloc[:,1].values], bins= 100, label=['train', 'test'])\n",
    "    plt.show()\n",
    "    plt.savefig('EDA images/'+df.columns[i]+'.png')"
   ]
  }
 ],
 "metadata": {
  "interpreter": {
   "hash": "7707060a70e73c870e805475563b3cd4fc9a8cd9674eb2e22ae7b7046e4eb061"
  },
  "kernelspec": {
   "display_name": "Python 3.8.5 64-bit ('base': conda)",
   "language": "python",
   "name": "python3"
  },
  "language_info": {
   "codemirror_mode": {
    "name": "ipython",
    "version": 3
   },
   "file_extension": ".py",
   "mimetype": "text/x-python",
   "name": "python",
   "nbconvert_exporter": "python",
   "pygments_lexer": "ipython3",
   "version": "3.9.7"
  },
  "orig_nbformat": 2
 },
 "nbformat": 4,
 "nbformat_minor": 2
}
